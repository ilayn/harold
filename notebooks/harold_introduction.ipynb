{
 "cells": [
  {
   "cell_type": "markdown",
   "metadata": {},
   "source": [
    "# A Brief Introduction to harold"
   ]
  },
  {
   "cell_type": "markdown",
   "metadata": {},
   "source": [
    "``harold`` is a control systems toolbox that provides essential control engineering tools. In this notebook, we cover the basics of working with models and standard operations using them.\n",
    "\n",
    "Let us first import the common libraries that will be used throughout this document. Star importing is generally frowned upon due to possible name clashes however since we are exclusively working with ``harold`` this simplifies the coding."
   ]
  },
  {
   "cell_type": "code",
   "execution_count": 1,
   "metadata": {},
   "outputs": [],
   "source": [
    "import numpy as np\n",
    "from harold import *\n",
    "import matplotlib.pyplot as plt"
   ]
  },
  {
   "cell_type": "markdown",
   "metadata": {},
   "source": [
    "## Creating models"
   ]
  },
  {
   "cell_type": "markdown",
   "metadata": {},
   "source": [
    "``harold`` defines two classes to represent the dynamic models, namely, ``Transfer`` and ``State`` classes. The usage is straightforward. Since NumPy arrays are a bit laborious to enter, the inputs are designed to be as flexible as possible. We are going to define a few models for sake of demonstration\n",
    "\n",
    "$$\n",
    "G_1 = \\frac{z-1}{z^3-zs^2+z},\\quad \n",
    "G_2 = \\begin{bmatrix}\\frac{1}{s+2}&\\frac{s+3}{s^2+s-4}\\\\ 0&\\frac{s+2}{s-3}\\end{bmatrix},\\quad\n",
    "G_3 = \\left[\\begin{array}{cc|c}0&1&0\\\\-2&-0.5&1\\\\\\hline 0&3.5&1 \\end{array}\\right],\\quad\n",
    "G_4 = \\left[\\begin{array}{ccc|cc}-4&-2&2&1&1\\\\0&-5&2&0&1\\\\4&-3&-4&2&-1\\\\\\hline -1&5&2&0&0\\end{array}\\right]\n",
    "$$"
   ]
  },
  {
   "cell_type": "code",
   "execution_count": 2,
   "metadata": {},
   "outputs": [],
   "source": [
    "G1 = Transfer([1, -1],[1, -2, 1, 0], dt=0.1) # discrete\n",
    "G2 = Transfer([[1, [1, 3]],[0, [1, 2]]], [[[1, 2], [1, 0, -4]],[1, [1, -3]]])\n",
    "G3 = State([[0, 1], [-0.1, -0.5]], [[0], [1]], [0, 3.5], 1, dt=0.1) # discrete\n",
    "G4 = State([[-4, -2, 2], [0, -5, 2], [4, -3, -4]], [[1, 1], [0, 1], [2, -1]], [-1, 5, 2])"
   ]
  },
  {
   "cell_type": "markdown",
   "metadata": {},
   "source": [
    "Internally, the list objects are converted to NumPy arrays. Notice that when we are defining $G_4$, we skipped the $D$ matrix since it is zero. Discrete-time models can be defined with the same syntax but also adding ``dt`` keyword with a value in seconds, for example,  ``State(a, b, c, d, dt=1)``. Getting used to using keywords in Python, both improves the readability and also avoids problems such as ``State(a, b, c, 1)`` which would take ``1`` as the $D$ element instead of the sampling period."
   ]
  },
  {
   "cell_type": "markdown",
   "metadata": {},
   "source": [
    "The default ``__repr__`` method is to provide basic information about the objects however can be converted to any other custom string."
   ]
  },
  {
   "cell_type": "code",
   "execution_count": 3,
   "metadata": {},
   "outputs": [
    {
     "data": {
      "text/plain": [
       "Discrete-Time Transfer function with sampling time: 0.100 (10.000 Hz.)\n",
       " 1 input and 1 output\n",
       "\n",
       "  Poles(real)    Poles(imag)    Zeros(real)    Zeros(imag)\n",
       "-------------  -------------  -------------  -------------\n",
       "            0              0              1              0\n",
       "            1              0\n",
       "            1              0\n"
      ]
     },
     "execution_count": 3,
     "metadata": {},
     "output_type": "execute_result"
    }
   ],
   "source": [
    "G1"
   ]
  },
  {
   "cell_type": "markdown",
   "metadata": {},
   "source": [
    "Now, we can directly identify the pole zero structure right away. Though MIMO state representations should be preferred exclusively, MIMO transfer models explicitly require a list of lists structure. Additionally, common denominators can also be given and it will be expanded to every entry in the denominator list of lists, say, $$G_5 = \\frac{1}{s^2+5s+1}\\begin{bmatrix}s+1&2\\\\s+3&4\\end{bmatrix}$$"
   ]
  },
  {
   "cell_type": "code",
   "execution_count": 4,
   "metadata": {},
   "outputs": [
    {
     "name": "stdout",
     "output_type": "stream",
     "text": [
      "Numerator :\n",
      " [[array([[1., 1.]]), array([[2.]])], [array([[1., 3.]]), array([[4.]])]] \n",
      "Denominator :\n",
      " [[array([[1., 5., 1.]]), array([[1., 5., 1.]])], [array([[1., 5., 1.]]), array([[1., 5., 1.]])]]\n"
     ]
    }
   ],
   "source": [
    "G5 = Transfer([[[1, 1], 2], [[1, 3], 4]], [1, 5, 1])\n",
    "print('Numerator :\\n', G5.num, '\\nDenominator :\\n', G5.den)"
   ]
  },
  {
   "cell_type": "markdown",
   "metadata": {},
   "source": [
    "One typical inconvenience entering ``State`` models is that, it is much easier to type the whole array $\\begin{bmatrix}A&B\\\\C&D\\end{bmatrix}$ and slice the individual arrays. However, this needs the extra slice indices which might be also laborious. The ``matrix_slice()`` function is provided for this purpose. Hence, suppose that the model data for $G_4$ above is given as an array already. Then creating $G_4$ is basically providing the slices and using the ``*``-argument expansion of Python."
   ]
  },
  {
   "cell_type": "code",
   "execution_count": 5,
   "metadata": {},
   "outputs": [
    {
     "data": {
      "text/plain": [
       "(array([[-4., -2.,  2.],\n",
       "        [ 0., -5.,  2.],\n",
       "        [ 4., -3., -4.]]), array([[ 1.,  1.],\n",
       "        [ 0.,  1.],\n",
       "        [ 2., -1.]]), array([[-1.,  5.,  2.]]), array([[0., 0.]]))"
      ]
     },
     "execution_count": 5,
     "metadata": {},
     "output_type": "execute_result"
    }
   ],
   "source": [
    "M = np.array([[-4, -2, 2, 1, 1], [0, -5, 2, 0, 1], [4, -3, -4, 2, -1], [-1, 5, 2, 0, 0]])\n",
    "G4 = State(*matrix_slice(M, corner_shape=[3, 3], corner='nw'))\n",
    "G4.matrices"
   ]
  },
  {
   "cell_type": "markdown",
   "metadata": {},
   "source": [
    "We could have sliced the array based on the shape of the ``C`` array and arrive at the same result"
   ]
  },
  {
   "cell_type": "code",
   "execution_count": 6,
   "metadata": {},
   "outputs": [],
   "source": [
    "M = np.array([[-4, -2, 2, 1, 1],\n",
    "              [0, -5, 2, 0, 1],\n",
    "              [4, -3, -4, 2, -1],\n",
    "              [-1, 5, 2, 0, 0]])\n",
    "G4 = State(*matrix_slice(M, corner_shape=[1, 3], corner='sw'))"
   ]
  },
  {
   "cell_type": "markdown",
   "metadata": {},
   "source": [
    "Further properties can be accessed via the typical dot syntax"
   ]
  },
  {
   "cell_type": "code",
   "execution_count": 7,
   "metadata": {},
   "outputs": [
    {
     "name": "stdout",
     "output_type": "stream",
     "text": [
      "Polynomials of G1: (array([[ 1., -1.]]), array([[ 1., -2.,  1.,  0.]]))\n",
      "Model data of G3:\n",
      "---------------\n",
      "(array([[ 0. ,  1. ],\n",
      "       [-0.1, -0.5]]), array([[0.],\n",
      "       [1.]]), array([[0. , 3.5]]), array([[1.]]))\n",
      "A matrix of G4:\n",
      "---------------\n",
      "[[-4. -2.  2.]\n",
      " [ 0. -5.  2.]\n",
      " [ 4. -3. -4.]]\n"
     ]
    }
   ],
   "source": [
    "print('Polynomials of G1:', G1.polynomials)\n",
    "print('Model data of G3:','-'*15, G3.matrices, sep='\\n')\n",
    "print('A matrix of G4:', '-'*15, G4.a, sep='\\n')"
   ]
  },
  {
   "cell_type": "markdown",
   "metadata": {},
   "source": [
    "## Conversions of Models"
   ]
  },
  {
   "cell_type": "markdown",
   "metadata": {},
   "source": [
    "In order to convert one model representation to another, the relevant functions are `transfer_to_state()` and `state_to_transfer()`. Notice that, typically the conversion from a Transfer model to a State model leads to a nonminimal representations."
   ]
  },
  {
   "cell_type": "code",
   "execution_count": 8,
   "metadata": {},
   "outputs": [],
   "source": [
    "H = transfer_to_state(G2)\n",
    "J = state_to_transfer(G3)"
   ]
  },
  {
   "cell_type": "code",
   "execution_count": 9,
   "metadata": {},
   "outputs": [
    {
     "data": {
      "text/plain": [
       "\n",
       " Continous-time state represantation\n",
       "4 states, 2 inputs, and 2 outputs\n",
       "  Poles(real)    Poles(imag)    Zeros(real)    Zeros(imag)\n",
       "-------------  -------------  -------------  -------------\n",
       "           -2              0             -2              0\n",
       "            3              0             -2              0\n",
       "            2              0              2              0\n",
       "           -2              0\n"
      ]
     },
     "execution_count": 9,
     "metadata": {},
     "output_type": "execute_result"
    }
   ],
   "source": [
    "H"
   ]
  },
  {
   "cell_type": "code",
   "execution_count": 10,
   "metadata": {},
   "outputs": [
    {
     "data": {
      "text/plain": [
       "Discrete-Time Transfer function with sampling time: 0.100 (10.000 Hz.)\n",
       " 1 input and 1 output\n",
       "\n",
       "  Poles(real)    Poles(imag)    Zeros(real)    Zeros(imag)\n",
       "-------------  -------------  -------------  -------------\n",
       "        -0.25       0.193649     -0.0251582              0\n",
       "        -0.25      -0.193649     -3.97484                0\n"
      ]
     },
     "execution_count": 10,
     "metadata": {},
     "output_type": "execute_result"
    }
   ],
   "source": [
    "J"
   ]
  },
  {
   "cell_type": "markdown",
   "metadata": {},
   "source": [
    "## Minimal Realization"
   ]
  },
  {
   "cell_type": "markdown",
   "metadata": {},
   "source": [
    "The minimality is an essential property of any representations for reliable computations and hence we can use ``minimal_realization()`` function. This function uses a distance metric to the closest rank-deficient matrix pencil for State models and a straightforward walk-over the poles and zeros for Transfer representations. As usual, the tolerance for decision can be adjusted.\n",
    "\n",
    "Note that, MIMO poles and zeros don't necessarily cancel each other even though the values are identical. This is because for MIMO representations pole and zero directionalities can be different. Let's see this for the representation $H$ we have obtained above."
   ]
  },
  {
   "cell_type": "code",
   "execution_count": 11,
   "metadata": {},
   "outputs": [
    {
     "data": {
      "text/plain": [
       "\n",
       " Continous-time state represantation\n",
       "3 states, 2 inputs, and 2 outputs\n",
       "  Poles(real)    Poles(imag)    Zeros(real)    Zeros(imag)\n",
       "-------------  -------------  -------------  -------------\n",
       "           -2              0              2              0\n",
       "            2              0             -2              0\n",
       "            3              0\n"
      ]
     },
     "execution_count": 11,
     "metadata": {},
     "output_type": "execute_result"
    }
   ],
   "source": [
    "Hm = minimal_realization(H)\n",
    "Hm"
   ]
  },
  {
   "cell_type": "markdown",
   "metadata": {},
   "source": [
    "# Discretization and undiscretization"
   ]
  },
  {
   "cell_type": "markdown",
   "metadata": {},
   "source": [
    "Discretization of models is more of an art than science. Though the methods are quite sound, selecting the right method and the relevant sampling period is up to designer's choice."
   ]
  },
  {
   "cell_type": "code",
   "execution_count": 12,
   "metadata": {},
   "outputs": [
    {
     "data": {
      "text/plain": [
       "Discrete-Time Transfer function with sampling time: 0.300 (3.333 Hz.)\n",
       " 1 input and 1 output\n",
       "\n",
       "  Poles(real)    Poles(imag)    Zeros(real)    Zeros(imag)\n",
       "-------------  -------------  -------------  -------------\n",
       "     0.792052       0.172336      -0.869152              0\n",
       "     0.792052      -0.172336\n"
      ]
     },
     "execution_count": 12,
     "metadata": {},
     "output_type": "execute_result"
    }
   ],
   "source": [
    "G6 = Transfer([1], [1, 1.4, 1])\n",
    "G6d = discretize(G6, dt=0.3, method='zoh')\n",
    "G6d"
   ]
  },
  {
   "cell_type": "markdown",
   "metadata": {},
   "source": [
    "Current known discretization methods are:"
   ]
  },
  {
   "cell_type": "code",
   "execution_count": 13,
   "metadata": {},
   "outputs": [
    {
     "name": "stdout",
     "output_type": "stream",
     "text": [
      "bilinear\n",
      "tustin\n",
      "zoh\n",
      "foh\n",
      "forward difference\n",
      "forward euler\n",
      "forward rectangular\n",
      "backward difference\n",
      "backward euler\n",
      "backward rectangular\n",
      "lft\n",
      ">>\n",
      "<<\n"
     ]
    }
   ],
   "source": [
    "from harold._global_constants import _KnownDiscretizationMethods as km\n",
    "print(*km, sep='\\n')"
   ]
  },
  {
   "cell_type": "markdown",
   "metadata": {},
   "source": [
    "The ``forward xxx``, ``backward xxx`` are aliases of ``>>`` and ``<<``. Similarly, ``bilinear`` is an alias of ``tustin``. \n",
    "\n",
    "Moreover, converting the models back and forth after each manipulation necessitates some sort of a memory of what has happened before. For this purpose, ``harold`` encodes the method of discretization into the model such that when converted back the discretization information is searched first and then if not found, the defaults are used. Let's start by using $G_3$ above which we have not provided any method but for $G_{6d}$ the default method is already implemented."
   ]
  },
  {
   "cell_type": "code",
   "execution_count": 14,
   "metadata": {},
   "outputs": [
    {
     "data": {
      "text/plain": [
       "True"
      ]
     },
     "execution_count": 14,
     "metadata": {},
     "output_type": "execute_result"
    }
   ],
   "source": [
    "G3.DiscretizedWith is None"
   ]
  },
  {
   "cell_type": "code",
   "execution_count": 15,
   "metadata": {},
   "outputs": [
    {
     "data": {
      "text/plain": [
       "'zoh'"
      ]
     },
     "execution_count": 15,
     "metadata": {},
     "output_type": "execute_result"
    }
   ],
   "source": [
    "G6d.DiscretizedWith"
   ]
  },
  {
   "cell_type": "markdown",
   "metadata": {},
   "source": [
    "Now, if we convert back these models, $G_3$ will be converted using the default method ``tustin`` however $G_{6d}$ will be converted via zero-order hold method. Had this information not present, the resulting continuous model would be slightly different than what we started with."
   ]
  },
  {
   "cell_type": "code",
   "execution_count": 16,
   "metadata": {},
   "outputs": [
    {
     "data": {
      "text/plain": [
       "Continous-Time Transfer function\n",
       " 1 input and 1 output\n",
       "\n",
       "  Poles(real)    Poles(imag)  Zeros(real)    Zeros(imag)\n",
       "-------------  -------------  -------------  -------------\n",
       "         -0.7       0.714143\n",
       "         -0.7      -0.714143\n"
      ]
     },
     "execution_count": 16,
     "metadata": {},
     "output_type": "execute_result"
    }
   ],
   "source": [
    "G6dcz = undiscretize(G6d)\n",
    "G6dcz"
   ]
  },
  {
   "cell_type": "code",
   "execution_count": 17,
   "metadata": {},
   "outputs": [
    {
     "data": {
      "text/plain": [
       "Continous-Time Transfer function\n",
       " 1 input and 1 output\n",
       "\n",
       "  Poles(real)    Poles(imag)    Zeros(real)    Zeros(imag)\n",
       "-------------  -------------  -------------  -------------\n",
       "    -0.705414       0.708951        6.66667              0\n",
       "    -0.705414      -0.708951      -95.2327               0\n"
      ]
     },
     "execution_count": 17,
     "metadata": {},
     "output_type": "execute_result"
    }
   ],
   "source": [
    "G6dct = undiscretize(G6d, method='tustin')\n",
    "G6dct"
   ]
  },
  {
   "cell_type": "markdown",
   "metadata": {},
   "source": [
    "## Model algebra"
   ]
  },
  {
   "cell_type": "markdown",
   "metadata": {},
   "source": [
    "Basic algebraic operations and feedback operations are implemented via typical ``*,+,-,@`` and ``feedback()`` function. The shape and sampling time compatibility is checked before the operations and errors are raised in case of mismatches.\n",
    "\n",
    "One exception is the operation with a SISO model over a MIMO model. For example, $G_1$ is a SISO model and $G_3$ is a sampling time matching MIMO model, hence following is allowed which multiplies each entry of $G_3$ with $G_1$. For multiplication of MIMO models matrix multiplication rules and hence matrix multiplication operator ``@`` is followed."
   ]
  },
  {
   "cell_type": "code",
   "execution_count": 18,
   "metadata": {},
   "outputs": [
    {
     "data": {
      "text/plain": [
       "Discrete-Time state representation with sampling time: 0.100 (10.000 Hz.)\n",
       "5 states, 1 input, and 1 output\n",
       "  Poles(real)    Poles(imag)    Zeros(real)    Zeros(imag)\n",
       "-------------  -------------  -------------  -------------\n",
       "        -0.25       0.193649     -0.0251582              0\n",
       "        -0.25      -0.193649     -3.97484                0\n",
       "         0          0             1                      0\n",
       "         1          0\n",
       "         1          0\n"
      ]
     },
     "execution_count": 18,
     "metadata": {},
     "output_type": "execute_result"
    }
   ],
   "source": [
    "G1 * G3"
   ]
  },
  {
   "cell_type": "code",
   "execution_count": 19,
   "metadata": {
    "scrolled": true
   },
   "outputs": [
    {
     "data": {
      "text/plain": [
       "\n",
       " Continous-time state represantation\n",
       "7 states, 2 inputs, and 1 output\n",
       "  Poles(real)    Poles(imag)  Zeros(real)    Zeros(imag)\n",
       "-------------  -------------  -------------  -------------\n",
       "     -6.76735        0\n",
       "     -3.11633        1.45258\n",
       "     -3.11633       -1.45258\n",
       "     -2              0\n",
       "      3              0\n",
       "      2              0\n",
       "     -2              0\n"
      ]
     },
     "execution_count": 19,
     "metadata": {},
     "output_type": "execute_result"
    }
   ],
   "source": [
    "G4 @ G2"
   ]
  },
  {
   "cell_type": "code",
   "execution_count": 20,
   "metadata": {},
   "outputs": [
    {
     "data": {
      "text/plain": [
       "Discrete-Time state representation with sampling time: 0.100 (10.000 Hz.)\n",
       "5 states, 1 input, and 1 output\n",
       "  Poles(real)    Poles(imag)    Zeros(real)    Zeros(imag)\n",
       "-------------  -------------  -------------  -------------\n",
       "   -1.30016          0           -3.97484                0\n",
       "    0.912951         1.46766     -0.0251582              0\n",
       "    0.912951        -1.46766     -0                      0\n",
       "    1                0            1                      0\n",
       "   -0.0257453        0            1                      0\n"
      ]
     },
     "execution_count": 20,
     "metadata": {},
     "output_type": "execute_result"
    }
   ],
   "source": [
    "CL = feedback(G3, G1)\n",
    "CL_min = minimal_realization(CL)\n",
    "CL"
   ]
  },
  {
   "cell_type": "markdown",
   "metadata": {},
   "source": [
    "We observe that there is a pole/zero cancellation at `1.` which is removed afterwards."
   ]
  },
  {
   "cell_type": "code",
   "execution_count": 21,
   "metadata": {},
   "outputs": [
    {
     "data": {
      "text/plain": [
       "Discrete-Time state representation with sampling time: 0.100 (10.000 Hz.)\n",
       "4 states, 1 input, and 1 output\n",
       "  Poles(real)    Poles(imag)    Zeros(real)    Zeros(imag)\n",
       "-------------  -------------  -------------  -------------\n",
       "   -1.30016          0          1.94064e-14              0\n",
       "   -0.0257453        0         -0.0251582                0\n",
       "    0.912951         1.46766    1                        0\n",
       "    0.912951        -1.46766   -3.97484                  0\n"
      ]
     },
     "execution_count": 21,
     "metadata": {},
     "output_type": "execute_result"
    }
   ],
   "source": [
    "CL_min"
   ]
  },
  {
   "cell_type": "markdown",
   "metadata": {},
   "source": [
    "## Basic Plotting Functionality"
   ]
  },
  {
   "cell_type": "markdown",
   "metadata": {},
   "source": [
    "The typical plots that are needed are already available. For frequency domain plotting, the default units are Hz and powers of ten for amplitudes. Motivation for these choices can be found in the book [Feedback Systems](https://press.princeton.edu/titles/8701.html)"
   ]
  },
  {
   "cell_type": "code",
   "execution_count": 22,
   "metadata": {
    "scrolled": true
   },
   "outputs": [
    {
     "data": {
      "image/png": "[encoded data removed]",
      "text/plain": [
       "<Figure size 432x288 with 2 Axes>"
      ]
     },
     "metadata": {},
     "output_type": "display_data"
    }
   ],
   "source": [
    "impulse_response_plot(G4);"
   ]
  },
  {
   "cell_type": "markdown",
   "metadata": {},
   "source": [
    "The discrete-time plant plots are automatically drawn as stairs."
   ]
  },
  {
   "cell_type": "code",
   "execution_count": 23,
   "metadata": {},
   "outputs": [
    {
     "data": {
      "image/png": "[encoded data removed]",
      "text/plain": [
       "<Figure size 432x288 with 2 Axes>"
      ]
     },
     "metadata": {},
     "output_type": "display_data"
    }
   ],
   "source": [
    "G4_d = discretize(G4, 0.1, method='zoh')\n",
    "impulse_response_plot(G4_d);"
   ]
  },
  {
   "cell_type": "code",
   "execution_count": 24,
   "metadata": {},
   "outputs": [
    {
     "data": {
      "image/png": "[encoded data removed]",
      "text/plain": [
       "<Figure size 432x288 with 4 Axes>"
      ]
     },
     "metadata": {},
     "output_type": "display_data"
    }
   ],
   "source": [
    "bode_plot(G4);"
   ]
  },
  {
   "cell_type": "markdown",
   "metadata": {},
   "source": [
    "The plot units can be changed via the keywords available"
   ]
  },
  {
   "cell_type": "code",
   "execution_count": 25,
   "metadata": {},
   "outputs": [
    {
     "data": {
      "image/png": "[encoded data removed]",
      "text/plain": [
       "<Figure size 432x288 with 4 Axes>"
      ]
     },
     "metadata": {},
     "output_type": "display_data"
    }
   ],
   "source": [
    "bode_plot(G4, use_db=True, use_hz=False, use_degree=False);"
   ]
  },
  {
   "cell_type": "code",
   "execution_count": 26,
   "metadata": {},
   "outputs": [
    {
     "data": {
      "image/png": "[encoded data removed]",
      "text/plain": [
       "<Figure size 432x288 with 4 Axes>"
      ]
     },
     "metadata": {},
     "output_type": "display_data"
    }
   ],
   "source": [
    "nyquist_plot(G2);"
   ]
  },
  {
   "cell_type": "markdown",
   "metadata": {},
   "source": [
    "# An LQR example"
   ]
  },
  {
   "cell_type": "markdown",
   "metadata": {},
   "source": [
    "Just to demonstrate the convenience, let's pickup the first section of the LQR example *Inverted Pendulum: State-Space Methods for Controller Design* from the classic [Control Tutorials for MATLAB](http://ctms.engin.umich.edu/CTMS/index.php?example=InvertedPendulum&section=ControlStateSpace)"
   ]
  },
  {
   "cell_type": "code",
   "execution_count": 27,
   "metadata": {},
   "outputs": [
    {
     "name": "stdout",
     "output_type": "stream",
     "text": [
      "The system is Kalman controllable: True\n",
      "Controller K gains :  [[-1.         -1.65671003 18.6853959   3.45943818]]\n"
     ]
    },
    {
     "data": {
      "image/png": "[encoded data removed]",
      "text/plain": [
       "<Figure size 432x288 with 1 Axes>"
      ]
     },
     "metadata": {},
     "output_type": "display_data"
    }
   ],
   "source": [
    "# Define some parameters\n",
    "M, m, b, I, g, l = 0.5, 0.2, 0.1, 0.006, 9.8, 0.3\n",
    "p = I*(M+m) + M*m*l**2  #denominator for the A and B matrices\n",
    "\n",
    "A = np.array([[0, 1, 0, 0], [0, -(I+m*l**2)*b/p, (m**2*g*l**2)/p, 0],[0, 0, 0, 1], [0, -(m*l*b)/p, m*g*l*(M+m)/p, 0]])\n",
    "B = np.array([[0], [(I+m*l**2)/p], [0], [m*l/p]])\n",
    "C = np.array([[1, 0, 0, 0], [0, 0, 1, 0]])\n",
    "\n",
    "sys_ss = State(A,B,C)\n",
    "print('The system is Kalman controllable:', is_kalman_controllable(sys_ss))\n",
    "\n",
    "Q = C.T @ C\n",
    "K, X, eigs = lqr(sys_ss, Q)  # R = 1 if omitted\n",
    "print('Controller K gains : ', K)\n",
    "sys_cl = State(A-B@K, B, C)\n",
    "\n",
    "t = np.arange(0, 5, 0.01)\n",
    "r =0.2*np.ones(len(t))\n",
    "y, t = simulate_linear_system(sys_cl, u=r, t=t)\n",
    "fig, ax = plt.subplots(1, 1)\n",
    "ax.plot(t,y);\n",
    "ax.grid(which='both')"
   ]
  },
  {
   "cell_type": "markdown",
   "metadata": {},
   "source": [
    "Now, the weights on the position states are increased "
   ]
  },
  {
   "cell_type": "code",
   "execution_count": 28,
   "metadata": {},
   "outputs": [
    {
     "name": "stdout",
     "output_type": "stream",
     "text": [
      "New Controller gains :  [[-70.71067812 -37.83445399 105.52978192  20.92384375]]\n"
     ]
    },
    {
     "data": {
      "image/png": "[encoded data removed]",
      "text/plain": [
       "<Figure size 432x288 with 1 Axes>"
      ]
     },
     "metadata": {},
     "output_type": "display_data"
    }
   ],
   "source": [
    "Q[[0, 2], [0, 2]] = [5000, 100]\n",
    "K, X, eigs = lqr(sys_ss, Q)\n",
    "print('New Controller gains : ', K)\n",
    "sys_cl = State(A-B@K, B, C)\n",
    "y, t = simulate_linear_system(sys_cl, u=r, t=t)\n",
    "fig, ax = plt.subplots(1, 1)\n",
    "ax.plot(t,y);\n",
    "ax.grid(which='both')"
   ]
  },
  {
   "cell_type": "markdown",
   "metadata": {},
   "source": [
    "There are many other functions already available such as $H_\\infty,H_2$ norms, LQR design with output weights, staircase/hessenberg forms, kalman tests and so on. Please don't hesitate to provide feedback by opening issues or submitting PRs to the code repository on Github. That would actually shape where the development time is going to be spent on."
   ]
  },
  {
   "cell_type": "markdown",
   "metadata": {},
   "source": [
    "[``harold`` on Github](https://github.com/ilayn/harold)"
   ]
  },
  {
   "cell_type": "markdown",
   "metadata": {},
   "source": [
    "I am especially interested in the pain points of the current software tools for control such that we can redesign the API and make the software more useful."
   ]
  }
 ],
 "metadata": {
  "kernelspec": {
   "display_name": "Python 3",
   "language": "python",
   "name": "python3"
  },
  "language_info": {
   "codemirror_mode": {
    "name": "ipython",
    "version": 3
   },
   "file_extension": ".py",
   "mimetype": "text/x-python",
   "name": "python",
   "nbconvert_exporter": "python",
   "pygments_lexer": "ipython3",
   "version": "3.6.5"
  }
 },
 "nbformat": 4,
 "nbformat_minor": 2
}
